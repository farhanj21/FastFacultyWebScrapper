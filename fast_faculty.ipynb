{
 "cells": [
  {
   "cell_type": "code",
   "execution_count": 2,
   "id": "4bc9df94",
   "metadata": {},
   "outputs": [],
   "source": [
    "import pandas as pd"
   ]
  },
  {
   "cell_type": "code",
   "execution_count": 3,
   "id": "b28f1555",
   "metadata": {
    "scrolled": true
   },
   "outputs": [
    {
     "name": "stdout",
     "output_type": "stream",
     "text": [
      "ID                              int64\n",
      "Name                           object\n",
      "Designation                    object\n",
      "HEC Approved PHD Supervisor      bool\n",
      "Highest Education              object\n",
      "Email                          object\n",
      "Department                     object\n",
      "Extension                       int64\n",
      "ImageURL                       object\n",
      "dtype: object\n"
     ]
    }
   ],
   "source": [
    "# reading the lahore campus dataframe and storing it\n",
    "lhr_df = pd.read_csv('lhr.csv')\n",
    "lhr_df.drop('Unnamed: 0' , axis = 1 ,inplace=True)\n",
    "print(lhr_df.dtypes)"
   ]
  },
  {
   "cell_type": "code",
   "execution_count": 4,
   "id": "385fa34e",
   "metadata": {},
   "outputs": [
    {
     "name": "stdout",
     "output_type": "stream",
     "text": [
      "ID                              int64\n",
      "Name                           object\n",
      "Designation                    object\n",
      "HEC Approved PHD Supervisor      bool\n",
      "Highest Education              object\n",
      "Email                          object\n",
      "Department                     object\n",
      "Extension                       int64\n",
      "ImageURL                       object\n",
      "dtype: object\n"
     ]
    }
   ],
   "source": [
    "# reading the islamabad campus dataframe and storing it\n",
    "isb_df = pd.read_csv('isb.csv')\n",
    "isb_df.drop('Unnamed: 0' , axis = 1 ,inplace=True)\n",
    "print(isb_df.dtypes)"
   ]
  },
  {
   "cell_type": "code",
   "execution_count": 5,
   "id": "4a2bfa51",
   "metadata": {},
   "outputs": [
    {
     "name": "stdout",
     "output_type": "stream",
     "text": [
      "ID                              int64\n",
      "Name                           object\n",
      "Designation                    object\n",
      "HEC Approved PHD Supervisor      bool\n",
      "Highest Education              object\n",
      "Email                          object\n",
      "Department                     object\n",
      "Extension                       int64\n",
      "ImageURL                       object\n",
      "dtype: object\n"
     ]
    }
   ],
   "source": [
    "# reading the Karachi campus dataframe and storing it\n",
    "khi_df = pd.read_csv('khi.csv')\n",
    "khi_df.drop('Unnamed: 0' , axis = 1 ,inplace=True)\n",
    "print(khi_df.dtypes)"
   ]
  },
  {
   "cell_type": "code",
   "execution_count": 6,
   "id": "ce39bc00",
   "metadata": {},
   "outputs": [
    {
     "name": "stdout",
     "output_type": "stream",
     "text": [
      "ID                              int64\n",
      "Name                           object\n",
      "Designation                    object\n",
      "HEC Approved PHD Supervisor      bool\n",
      "Highest Education              object\n",
      "Email                          object\n",
      "Department                     object\n",
      "Extension                      object\n",
      "Image URL                      object\n",
      "dtype: object\n"
     ]
    }
   ],
   "source": [
    "# reading the Chiniot-Failsabad campus dataframe and storing it\n",
    "cfd_df = pd.read_csv('cfd.csv')\n",
    "if 'Unnamed: 0' in cfd_df.columns:\n",
    "    cfd_df.drop('Unnamed: 0', axis=1, inplace=True)\n",
    "print(cfd_df.dtypes)"
   ]
  },
  {
   "cell_type": "code",
   "execution_count": 7,
   "id": "d9a7ce41",
   "metadata": {},
   "outputs": [
    {
     "name": "stdout",
     "output_type": "stream",
     "text": [
      "ID                     int64\n",
      "Name                  object\n",
      "Designation           object\n",
      "Department            object\n",
      "HEC Approved            bool\n",
      "Highest Education     object\n",
      "Extension            float64\n",
      "Email                 object\n",
      "Image URL             object\n",
      "dtype: object\n"
     ]
    }
   ],
   "source": [
    "# reading the Peshawar campus dataframe and storing it\n",
    "pwr_df = pd.read_csv('pwr.csv')\n",
    "if 'Unnamed: 0' in pwr_df.columns:\n",
    "    pwr_df.drop('Unnamed: 0', axis=1, inplace=True)\n",
    "print(pwr_df.dtypes)"
   ]
  },
  {
   "cell_type": "code",
   "execution_count": 8,
   "id": "119aa813",
   "metadata": {},
   "outputs": [
    {
     "name": "stdout",
     "output_type": "stream",
     "text": [
      "      ID                      Name          Designation  \\\n",
      "0   1238          Dr. Kashif Zafar      Professor & HOD   \n",
      "1   4027            Dr. Aamir Wali            Professor   \n",
      "2   4391  Dr. Asif Mahmood Gillani            Professor   \n",
      "3   6113           Dr. Asma Naseer            Professor   \n",
      "4   9540         Dr. Maryam Bashir            Professor   \n",
      "..   ...                       ...                  ...   \n",
      "36  6522      Dr. Shams-ul Arifeen  Assistant Professor   \n",
      "37  5534              Osama Sohrab             Lecturer   \n",
      "38  5612               Abida Farid             Lecturer   \n",
      "39  6050               Noreen Shah             Lecturer   \n",
      "40  6460          Abdul Basit Khan             Lecturer   \n",
      "\n",
      "   HEC Approved PHD Supervisor  \\\n",
      "0                         True   \n",
      "1                         True   \n",
      "2                         True   \n",
      "3                         True   \n",
      "4                         True   \n",
      "..                         ...   \n",
      "36                         NaN   \n",
      "37                         NaN   \n",
      "38                         NaN   \n",
      "39                         NaN   \n",
      "40                         NaN   \n",
      "\n",
      "                                    Highest Education  \\\n",
      "0                  PhD (CS), NUCES, Islamabad (2010)    \n",
      "1                     PhD (CS), NUCES, Lahore (2019)    \n",
      "2     Ph.D(Computing), University of Patras , Gree...   \n",
      "3                     PhD (CS), NUCES, Lahore (2018)    \n",
      "4     Ph.D (CS), Northeastern University, Boston, ...   \n",
      "..                                                ...   \n",
      "36                      PhD (Math), GIKI, Topi (2023)   \n",
      "37  M.S (Applied Mathematics), Ghulam Ishaq Khan I...   \n",
      "38  •\\tMPhil in English Language & Communication f...   \n",
      "39               Ph.D. Scholar (Coursework completed)   \n",
      "40  MPhil (Eng.), Qurtuba University, Peshawar (2020)   \n",
      "\n",
      "                        Email                    Department Extension  \\\n",
      "0      kashif.zafar@nu.edu.pk                     Computing       569   \n",
      "1        aamir.wali@nu.edu.pk                     Computing       572   \n",
      "2       asif.gilani@nu.edu.pk                     Computing       558   \n",
      "3       asma.naseer@nu.edu.pk                     Computing       634   \n",
      "4     maryam.bashir@nu.edu.pk                     Computing       635   \n",
      "..                        ...                           ...       ...   \n",
      "36    shams.arifeen@nu.edu.pk  Department of Science and Hu       NaN   \n",
      "37     osama.sohrab@nu.edu.pk  Department of Science and Hu       NaN   \n",
      "38      abida.farid@nu.edu.pk  Department of Science and Hu       NaN   \n",
      "39      noreen.shah@nu.edu.pk  Department of Science and Hu       NaN   \n",
      "40  abdulbasit.khan@nu.edu.pk  Department of Science and Hu       NaN   \n",
      "\n",
      "                                             ImageURL  \\\n",
      "0   https://lhr.nu.edu.pk/media/Faculty/01._Dr_Kas...   \n",
      "1   https://lhr.nu.edu.pk/media/Faculty/51._Dr_Aam...   \n",
      "2   https://lhr.nu.edu.pk/media/Faculty/02._Dr_Asi...   \n",
      "3   https://lhr.nu.edu.pk/media/Faculty/07._Dr_Asm...   \n",
      "4   https://lhr.nu.edu.pk/media/Faculty/52._Dr_Mar...   \n",
      "..                                                ...   \n",
      "36                                                NaN   \n",
      "37                                                NaN   \n",
      "38                                                NaN   \n",
      "39                                                NaN   \n",
      "40                                                NaN   \n",
      "\n",
      "                                            Image URL HEC Approved  \n",
      "0                                                 NaN          NaN  \n",
      "1                                                 NaN          NaN  \n",
      "2                                                 NaN          NaN  \n",
      "3                                                 NaN          NaN  \n",
      "4                                                 NaN          NaN  \n",
      "..                                                ...          ...  \n",
      "36  http://pwr.nu.edu.pkimages/faculty/profile6522...         True  \n",
      "37  http://pwr.nu.edu.pkimages/faculty/profile5534...        False  \n",
      "38  http://pwr.nu.edu.pkimages/faculty/profile5612...        False  \n",
      "39  http://pwr.nu.edu.pkimages/faculty/profile6050...        False  \n",
      "40  http://pwr.nu.edu.pkimages/faculty/profile6460...        False  \n",
      "\n",
      "[803 rows x 11 columns]\n"
     ]
    }
   ],
   "source": [
    "# concatenating the lahore , islamabad, karachi, peshawar, chiniot dataframe and storing it\n",
    "fast_faculty = pd.concat([lhr_df,isb_df,khi_df, cfd_df, pwr_df])\n",
    "print(fast_faculty)"
   ]
  },
  {
   "cell_type": "code",
   "execution_count": 9,
   "id": "b61f3ad2",
   "metadata": {},
   "outputs": [],
   "source": [
    "# writing the dataframe to a file\n",
    "fast_faculty.to_csv('fast_faculty.csv')"
   ]
  },
  {
   "cell_type": "code",
   "execution_count": 10,
   "id": "b35d16d2",
   "metadata": {},
   "outputs": [
    {
     "name": "stdout",
     "output_type": "stream",
     "text": [
      "       ID                      Name          Designation  \\\n",
      "0    1238          Dr. Kashif Zafar      Professor & HOD   \n",
      "1    4027            Dr. Aamir Wali            Professor   \n",
      "2    4391  Dr. Asif Mahmood Gillani            Professor   \n",
      "3    6113           Dr. Asma Naseer            Professor   \n",
      "4    9540         Dr. Maryam Bashir            Professor   \n",
      "..    ...                       ...                  ...   \n",
      "798  6522      Dr. Shams-ul Arifeen  Assistant Professor   \n",
      "799  5534              Osama Sohrab             Lecturer   \n",
      "800  5612               Abida Farid             Lecturer   \n",
      "801  6050               Noreen Shah             Lecturer   \n",
      "802  6460          Abdul Basit Khan             Lecturer   \n",
      "\n",
      "    HEC Approved PHD Supervisor  \\\n",
      "0                          True   \n",
      "1                          True   \n",
      "2                          True   \n",
      "3                          True   \n",
      "4                          True   \n",
      "..                          ...   \n",
      "798                         NaN   \n",
      "799                         NaN   \n",
      "800                         NaN   \n",
      "801                         NaN   \n",
      "802                         NaN   \n",
      "\n",
      "                                     Highest Education  \\\n",
      "0                   PhD (CS), NUCES, Islamabad (2010)    \n",
      "1                      PhD (CS), NUCES, Lahore (2019)    \n",
      "2      Ph.D(Computing), University of Patras , Gree...   \n",
      "3                      PhD (CS), NUCES, Lahore (2018)    \n",
      "4      Ph.D (CS), Northeastern University, Boston, ...   \n",
      "..                                                 ...   \n",
      "798                      PhD (Math), GIKI, Topi (2023)   \n",
      "799  M.S (Applied Mathematics), Ghulam Ishaq Khan I...   \n",
      "800  •\\tMPhil in English Language & Communication f...   \n",
      "801               Ph.D. Scholar (Coursework completed)   \n",
      "802  MPhil (Eng.), Qurtuba University, Peshawar (2020)   \n",
      "\n",
      "                         Email                    Department Extension  \\\n",
      "0       kashif.zafar@nu.edu.pk                     Computing       569   \n",
      "1         aamir.wali@nu.edu.pk                     Computing       572   \n",
      "2        asif.gilani@nu.edu.pk                     Computing       558   \n",
      "3        asma.naseer@nu.edu.pk                     Computing       634   \n",
      "4      maryam.bashir@nu.edu.pk                     Computing       635   \n",
      "..                         ...                           ...       ...   \n",
      "798    shams.arifeen@nu.edu.pk  Department of Science and Hu       NaN   \n",
      "799     osama.sohrab@nu.edu.pk  Department of Science and Hu       NaN   \n",
      "800      abida.farid@nu.edu.pk  Department of Science and Hu       NaN   \n",
      "801      noreen.shah@nu.edu.pk  Department of Science and Hu       NaN   \n",
      "802  abdulbasit.khan@nu.edu.pk  Department of Science and Hu       NaN   \n",
      "\n",
      "                                              ImageURL  \\\n",
      "0    https://lhr.nu.edu.pk/media/Faculty/01._Dr_Kas...   \n",
      "1    https://lhr.nu.edu.pk/media/Faculty/51._Dr_Aam...   \n",
      "2    https://lhr.nu.edu.pk/media/Faculty/02._Dr_Asi...   \n",
      "3    https://lhr.nu.edu.pk/media/Faculty/07._Dr_Asm...   \n",
      "4    https://lhr.nu.edu.pk/media/Faculty/52._Dr_Mar...   \n",
      "..                                                 ...   \n",
      "798                                                NaN   \n",
      "799                                                NaN   \n",
      "800                                                NaN   \n",
      "801                                                NaN   \n",
      "802                                                NaN   \n",
      "\n",
      "                                             Image URL HEC Approved  \n",
      "0                                                  NaN          NaN  \n",
      "1                                                  NaN          NaN  \n",
      "2                                                  NaN          NaN  \n",
      "3                                                  NaN          NaN  \n",
      "4                                                  NaN          NaN  \n",
      "..                                                 ...          ...  \n",
      "798  http://pwr.nu.edu.pkimages/faculty/profile6522...         True  \n",
      "799  http://pwr.nu.edu.pkimages/faculty/profile5534...        False  \n",
      "800  http://pwr.nu.edu.pkimages/faculty/profile5612...        False  \n",
      "801  http://pwr.nu.edu.pkimages/faculty/profile6050...        False  \n",
      "802  http://pwr.nu.edu.pkimages/faculty/profile6460...        False  \n",
      "\n",
      "[803 rows x 11 columns]\n"
     ]
    }
   ],
   "source": [
    "# reading the fast_faculty dataframe \n",
    "faculty = pd.read_csv('fast_faculty.csv')\n",
    "faculty.drop('Unnamed: 0' , axis = 1 ,inplace=True)\n",
    "print(faculty)"
   ]
  },
  {
   "cell_type": "code",
   "execution_count": 11,
   "id": "9d1c1a06",
   "metadata": {},
   "outputs": [],
   "source": [
    "# using the sample method to create the sample dataframe\n",
    "# my roll number is 21L-6074 so 4/10 = 0.4\n",
    "sample_ = faculty.sample(frac=0.4)"
   ]
  },
  {
   "cell_type": "code",
   "execution_count": 12,
   "id": "f16bea1a",
   "metadata": {},
   "outputs": [],
   "source": [
    "# writing the sample dataframe to a file\n",
    "sample_.to_csv('sample.csv')"
   ]
  },
  {
   "cell_type": "code",
   "execution_count": 13,
   "id": "ce1b93f2",
   "metadata": {},
   "outputs": [
    {
     "data": {
      "text/html": [
       "<div>\n",
       "<style scoped>\n",
       "    .dataframe tbody tr th:only-of-type {\n",
       "        vertical-align: middle;\n",
       "    }\n",
       "\n",
       "    .dataframe tbody tr th {\n",
       "        vertical-align: top;\n",
       "    }\n",
       "\n",
       "    .dataframe thead th {\n",
       "        text-align: right;\n",
       "    }\n",
       "</style>\n",
       "<table border=\"1\" class=\"dataframe\">\n",
       "  <thead>\n",
       "    <tr style=\"text-align: right;\">\n",
       "      <th></th>\n",
       "      <th>ID</th>\n",
       "      <th>Name</th>\n",
       "      <th>Designation</th>\n",
       "      <th>HEC Approved PHD Supervisor</th>\n",
       "      <th>Highest Education</th>\n",
       "      <th>Email</th>\n",
       "      <th>Department</th>\n",
       "      <th>Extension</th>\n",
       "      <th>ImageURL</th>\n",
       "      <th>Image URL</th>\n",
       "      <th>HEC Approved</th>\n",
       "    </tr>\n",
       "  </thead>\n",
       "  <tbody>\n",
       "    <tr>\n",
       "      <th>618</th>\n",
       "      <td>7464</td>\n",
       "      <td>Mr. Farhan Ali Memon</td>\n",
       "      <td>Lecturer</td>\n",
       "      <td>False</td>\n",
       "      <td>MA (Eng.), NUML, Islamabad</td>\n",
       "      <td>farhan.ali@nu.edu.pk</td>\n",
       "      <td>Sciences and Humanities</td>\n",
       "      <td>310</td>\n",
       "      <td>data:image/svg+xml;base64,PHN2ZyB4bWxucz0iaHR0...</td>\n",
       "      <td>NaN</td>\n",
       "      <td>NaN</td>\n",
       "    </tr>\n",
       "    <tr>\n",
       "      <th>309</th>\n",
       "      <td>5687</td>\n",
       "      <td>Shams Farooq</td>\n",
       "      <td>Lecturer</td>\n",
       "      <td>False</td>\n",
       "      <td>MS (Software Engineering) University of Hudder...</td>\n",
       "      <td>shams.farooq@nu.edu.pk</td>\n",
       "      <td>Computing</td>\n",
       "      <td>653</td>\n",
       "      <td>http://isb.nu.edu.pk/Images/Profile/CS/5687.jpg</td>\n",
       "      <td>NaN</td>\n",
       "      <td>NaN</td>\n",
       "    </tr>\n",
       "    <tr>\n",
       "      <th>388</th>\n",
       "      <td>9150</td>\n",
       "      <td>Ataul Aziz Ikram</td>\n",
       "      <td>Professor</td>\n",
       "      <td>True</td>\n",
       "      <td>PhD (Electrical Engineering) Missouri Universi...</td>\n",
       "      <td>ata.ikram@nu.edu.pk</td>\n",
       "      <td>Electrical Engineering</td>\n",
       "      <td>340</td>\n",
       "      <td>http://isb.nu.edu.pk/Images/Profile/EE/9150.jpg</td>\n",
       "      <td>NaN</td>\n",
       "      <td>NaN</td>\n",
       "    </tr>\n",
       "    <tr>\n",
       "      <th>454</th>\n",
       "      <td>5841</td>\n",
       "      <td>Mehmood Ur Rehman</td>\n",
       "      <td>Lecturer</td>\n",
       "      <td>False</td>\n",
       "      <td>MS (Management) National University of Compute...</td>\n",
       "      <td>mehmood.rehman@nu.edu.pk</td>\n",
       "      <td>Management Sciences</td>\n",
       "      <td>161</td>\n",
       "      <td>http://isb.nu.edu.pk/Images/Profile/FSM/5841.JPG</td>\n",
       "      <td>NaN</td>\n",
       "      <td>NaN</td>\n",
       "    </tr>\n",
       "    <tr>\n",
       "      <th>635</th>\n",
       "      <td>8103</td>\n",
       "      <td>Ms. Wajiha Akber Durrani</td>\n",
       "      <td>Lecturer</td>\n",
       "      <td>False</td>\n",
       "      <td>Not Available</td>\n",
       "      <td>wajiha.akber@nu.edu.pk</td>\n",
       "      <td>Sciences and Humanities</td>\n",
       "      <td>251</td>\n",
       "      <td>data:image/svg+xml;base64,PHN2ZyB4bWxucz0iaHR0...</td>\n",
       "      <td>NaN</td>\n",
       "      <td>NaN</td>\n",
       "    </tr>\n",
       "  </tbody>\n",
       "</table>\n",
       "</div>"
      ],
      "text/plain": [
       "       ID                      Name Designation HEC Approved PHD Supervisor  \\\n",
       "618  7464      Mr. Farhan Ali Memon    Lecturer                       False   \n",
       "309  5687              Shams Farooq    Lecturer                       False   \n",
       "388  9150          Ataul Aziz Ikram   Professor                        True   \n",
       "454  5841         Mehmood Ur Rehman    Lecturer                       False   \n",
       "635  8103  Ms. Wajiha Akber Durrani    Lecturer                       False   \n",
       "\n",
       "                                     Highest Education  \\\n",
       "618                       MA (Eng.), NUML, Islamabad     \n",
       "309  MS (Software Engineering) University of Hudder...   \n",
       "388  PhD (Electrical Engineering) Missouri Universi...   \n",
       "454  MS (Management) National University of Compute...   \n",
       "635                                      Not Available   \n",
       "\n",
       "                        Email               Department Extension  \\\n",
       "618      farhan.ali@nu.edu.pk  Sciences and Humanities       310   \n",
       "309    shams.farooq@nu.edu.pk                Computing       653   \n",
       "388       ata.ikram@nu.edu.pk   Electrical Engineering       340   \n",
       "454  mehmood.rehman@nu.edu.pk      Management Sciences       161   \n",
       "635    wajiha.akber@nu.edu.pk  Sciences and Humanities       251   \n",
       "\n",
       "                                              ImageURL Image URL HEC Approved  \n",
       "618  data:image/svg+xml;base64,PHN2ZyB4bWxucz0iaHR0...       NaN          NaN  \n",
       "309    http://isb.nu.edu.pk/Images/Profile/CS/5687.jpg       NaN          NaN  \n",
       "388    http://isb.nu.edu.pk/Images/Profile/EE/9150.jpg       NaN          NaN  \n",
       "454   http://isb.nu.edu.pk/Images/Profile/FSM/5841.JPG       NaN          NaN  \n",
       "635  data:image/svg+xml;base64,PHN2ZyB4bWxucz0iaHR0...       NaN          NaN  "
      ]
     },
     "execution_count": 13,
     "metadata": {},
     "output_type": "execute_result"
    }
   ],
   "source": [
    "sample_.head()"
   ]
  }
 ],
 "metadata": {
  "kernelspec": {
   "display_name": "Python 3",
   "language": "python",
   "name": "python3"
  },
  "language_info": {
   "codemirror_mode": {
    "name": "ipython",
    "version": 3
   },
   "file_extension": ".py",
   "mimetype": "text/x-python",
   "name": "python",
   "nbconvert_exporter": "python",
   "pygments_lexer": "ipython3",
   "version": "3.13.1"
  }
 },
 "nbformat": 4,
 "nbformat_minor": 5
}
