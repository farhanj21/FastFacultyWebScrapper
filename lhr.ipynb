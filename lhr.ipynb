{
 "cells": [
  {
   "cell_type": "code",
   "execution_count": 1,
   "id": "9e1756ff",
   "metadata": {},
   "outputs": [],
   "source": [
    "import requests\n",
    "from bs4 import BeautifulSoup \n",
    "import pandas as pd"
   ]
  },
  {
   "cell_type": "code",
   "execution_count": 2,
   "id": "428afd4c",
   "metadata": {},
   "outputs": [
    {
     "name": "stdout",
     "output_type": "stream",
     "text": [
      "<Response [200]>\n"
     ]
    }
   ],
   "source": [
    "URL_lhr = \"http://lhr.nu.edu.pk/faculty/\"\n",
    "r_lhr = requests.get(URL_lhr) \n",
    "print(r_lhr) \n",
    "\n",
    "soup_lhr = BeautifulSoup(r_lhr.content, 'html.parser') "
   ]
  },
  {
   "cell_type": "code",
   "execution_count": 3,
   "id": "3b2fa0ef",
   "metadata": {},
   "outputs": [
    {
     "name": "stderr",
     "output_type": "stream",
     "text": [
      "C:\\Users\\f-jaf\\AppData\\Local\\Temp\\ipykernel_19280\\2217577771.py:2: DeprecationWarning: Call to deprecated method findAll. (Replaced by find_all) -- Deprecated since version 4.0.0.\n",
      "  faculty_lhr = soup_lhr.findAll('div', class_='facultyCard')\n"
     ]
    }
   ],
   "source": [
    "# Extracting the faculty member cards\n",
    "faculty_lhr = soup_lhr.findAll('div', class_='facultyCard')"
   ]
  },
  {
   "cell_type": "code",
   "execution_count": 4,
   "id": "41a3e72d",
   "metadata": {},
   "outputs": [],
   "source": [
    "ID=[]\n",
    "name=[]\n",
    "email=[]\n",
    "designation=[]\n",
    "img=[]\n",
    "highest_education=[]\n",
    "HEC_approved=[]\n",
    "dept=[]\n",
    "extension=[]"
   ]
  },
  {
   "cell_type": "code",
   "execution_count": 5,
   "id": "730f4dae",
   "metadata": {},
   "outputs": [],
   "source": [
    "# extracting ID , image , name , email, designation and if HEC Approved Supervisor\n",
    "for f in faculty_lhr:\n",
    "    \n",
    "    try:\n",
    "        if(f.find('p',class_='small').text.strip().split('\\n')[2]):\n",
    "            HEC_approved.append(True)\n",
    "            \n",
    "    except IndexError:\n",
    "        HEC_approved.append(False)\n",
    "    \n",
    "    try:\n",
    "        ID.append(int(f.find('a',class_='faculty-link')['href'].split('/')[-1]))\n",
    "        \n",
    "    except:\n",
    "        ID.append(-1)\n",
    "        \n",
    "    name.append(f.find('h5',class_='text-center').text)\n",
    "        \n",
    "    designation.append(f.find('p',class_='small').text.strip().split('\\n')[0])\n",
    "    \n",
    "    email.append(f.find('p',class_='mb-0').text)\n",
    "    \n",
    "    img.append(\"https://lhr.nu.edu.pk\" + f.find('img', class_=\"card-img-top\")['src'])"
   ]
  },
  {
   "cell_type": "markdown",
   "id": "d406ada5",
   "metadata": {},
   "source": [
    "Extracting the Department for Each Faculty Member"
   ]
  },
  {
   "cell_type": "code",
   "execution_count": 6,
   "id": "faa79178",
   "metadata": {},
   "outputs": [],
   "source": [
    "computer_dept = soup_lhr.find('div',id='fsc')\n",
    "computer_dept_faculty = computer_dept.descendants\n",
    "\n",
    "for element in computer_dept_faculty:\n",
    "    if element.name == 'h5' and 'text-center' in element.get('class', []):\n",
    "            dept.append('Computing')"
   ]
  },
  {
   "cell_type": "code",
   "execution_count": 7,
   "id": "2afbca5b",
   "metadata": {},
   "outputs": [],
   "source": [
    "ee_dept = soup_lhr.find('div',id='ee')\n",
    "ee_dept_faculty = ee_dept.descendants\n",
    "\n",
    "for element in ee_dept_faculty:\n",
    "    if element.name == 'h5' and 'text-center' in element.get('class', []):\n",
    "            dept.append('Electrical Engineering')"
   ]
  },
  {
   "cell_type": "code",
   "execution_count": 8,
   "id": "b7ebb166",
   "metadata": {},
   "outputs": [],
   "source": [
    "cv_dept = soup_lhr.find('div',id='cv')\n",
    "cv_dept_faculty = cv_dept.descendants\n",
    "\n",
    "for element in cv_dept_faculty:\n",
    "    if element.name == 'h5' and 'text-center' in element.get('class', []):\n",
    "            dept.append('Civil Engineering')"
   ]
  },
  {
   "cell_type": "code",
   "execution_count": 9,
   "id": "e7c6b6bd",
   "metadata": {},
   "outputs": [],
   "source": [
    "fsm_dept = soup_lhr.find('div',id='fsm')\n",
    "fsm_dept_faculty = fsm_dept.descendants\n",
    "\n",
    "for element in fsm_dept_faculty:\n",
    "    if element.name == 'h5' and 'text-center' in element.get('class', []):\n",
    "            dept.append('Management')"
   ]
  },
  {
   "cell_type": "code",
   "execution_count": 10,
   "id": "94a5d268",
   "metadata": {},
   "outputs": [],
   "source": [
    "ss_dept = soup_lhr.find('div',id='ss')\n",
    "ss_dept_faculty = ss_dept.descendants\n",
    "\n",
    "for element in ss_dept_faculty:\n",
    "    if element.name == 'h5' and 'text-center' in element.get('class', []):\n",
    "            dept.append('Sciences and Humanities')\n"
   ]
  },
  {
   "cell_type": "code",
   "execution_count": 11,
   "id": "47e3ed4e",
   "metadata": {},
   "outputs": [],
   "source": [
    "# extracting links for each profile and extracting the highest education and extension  \n",
    "\n",
    "for f in faculty_lhr:\n",
    "    \n",
    "    profile_URL = \"https://lhr.nu.edu.pk\" + f.find('a',class_='faculty-link')['href']\n",
    "    profile_page = requests.get(profile_URL)\n",
    "    profile_content = BeautifulSoup(profile_page.content, 'html.parser')\n",
    "    profile = profile_content.find('div',class_='container')\n",
    "    \n",
    "    try:\n",
    "        highest_education.append(profile.find('li').text)\n",
    "        \n",
    "    except AttributeError:\n",
    "            highest_education.append('Not Available')\n",
    "          \n",
    "    try:\n",
    "        extension.append(int(profile.find('span',class_=\"small\").text.split()[-1][-3:]))\n",
    "    \n",
    "    except ValueError:\n",
    "        extension.append(-1)"
   ]
  },
  {
   "cell_type": "code",
   "execution_count": 12,
   "id": "c61684a0",
   "metadata": {},
   "outputs": [
    {
     "name": "stdout",
     "output_type": "stream",
     "text": [
      "       ID                        Name         Designation  \\\n",
      "0    1238            Dr. Kashif Zafar     Professor & HOD   \n",
      "1    4027              Dr. Aamir Wali           Professor   \n",
      "2    4391    Dr. Asif Mahmood Gillani           Professor   \n",
      "3    6113             Dr. Asma Naseer           Professor   \n",
      "4    9540           Dr. Maryam Bashir           Professor   \n",
      "..    ...                         ...                 ...   \n",
      "213  5795           Mr. Razm-ul-Zafar            Lecturer   \n",
      "214  6548            Ms. Rubab Arshad            Lecturer   \n",
      "215  5337             Ms. Sarah Ahmad            Lecturer   \n",
      "216  6363  Mr. Tasaduque Hussain Shah            Lecturer   \n",
      "217  6567        Ms. Mahnoor Chaudhry  Lecturer (English)   \n",
      "\n",
      "     HEC Approved PHD Supervisor  \\\n",
      "0                           True   \n",
      "1                           True   \n",
      "2                           True   \n",
      "3                           True   \n",
      "4                           True   \n",
      "..                           ...   \n",
      "213                        False   \n",
      "214                        False   \n",
      "215                        False   \n",
      "216                        False   \n",
      "217                        False   \n",
      "\n",
      "                                     Highest Education  \\\n",
      "0                   PhD (CS), NUCES, Islamabad (2010)    \n",
      "1                      PhD (CS), NUCES, Lahore (2019)    \n",
      "2      Ph.D(Computing), University of Patras , Gree...   \n",
      "3                      PhD (CS), NUCES, Lahore (2018)    \n",
      "4      Ph.D (CS), Northeastern University, Boston, ...   \n",
      "..                                                 ...   \n",
      "213               MPhil (English), UMT, Lahore (2017)    \n",
      "214    MS (Applied Linguistics), NUCES, Lahore (2022)    \n",
      "215             MPhil (Statistics), PU, Lahore (2013)    \n",
      "216       MS (Mathematics), COMSATS, Islamabad (2022)    \n",
      "217    MPhil (Applied Linguistics), UMT, Lahore (20...   \n",
      "\n",
      "                           Email               Department  Extension  \\\n",
      "0         kashif.zafar@nu.edu.pk                Computing        569   \n",
      "1           aamir.wali@nu.edu.pk                Computing        572   \n",
      "2          asif.gilani@nu.edu.pk                Computing        558   \n",
      "3          asma.naseer@nu.edu.pk                Computing        634   \n",
      "4        maryam.bashir@nu.edu.pk                Computing        635   \n",
      "..                           ...                      ...        ...   \n",
      "213         razm.zafar@nu.edu.pk  Sciences and Humanities        527   \n",
      "214       rubab.arshad@nu.edu.pk  Sciences and Humanities        236   \n",
      "215        Sarah.ahmad@nu.edu.pk  Sciences and Humanities        525   \n",
      "216   tasduque.hussain@nu.edu.pk  Sciences and Humanities        524   \n",
      "217  mahnoor.chaudhary@nu.edu.pk  Sciences and Humanities         -1   \n",
      "\n",
      "                                              ImageURL  \n",
      "0    https://lhr.nu.edu.pk/media/Faculty/01._Dr_Kas...  \n",
      "1    https://lhr.nu.edu.pk/media/Faculty/51._Dr_Aam...  \n",
      "2    https://lhr.nu.edu.pk/media/Faculty/02._Dr_Asi...  \n",
      "3    https://lhr.nu.edu.pk/media/Faculty/07._Dr_Asm...  \n",
      "4    https://lhr.nu.edu.pk/media/Faculty/52._Dr_Mar...  \n",
      "..                                                 ...  \n",
      "213  https://lhr.nu.edu.pk/media/Faculty/166._Razm-...  \n",
      "214  https://lhr.nu.edu.pk/media/Faculty/172._Rubab...  \n",
      "215  https://lhr.nu.edu.pk/media/Faculty/163._Sarah...  \n",
      "216  https://lhr.nu.edu.pk/media/Faculty/168._Tasad...  \n",
      "217  https://lhr.nu.edu.pk/media/Faculty/175._Mahno...  \n",
      "\n",
      "[218 rows x 9 columns]\n"
     ]
    }
   ],
   "source": [
    "# creating the dataframe\n",
    "lhr_df = pd.DataFrame({'ID': ID , 'Name': name , 'Designation': designation , 'HEC Approved PHD Supervisor': HEC_approved ,\n",
    "                       'Highest Education': highest_education , 'Email' : email , 'Department': dept , 'Extension': extension ,\n",
    "                       'ImageURL': img })\n",
    "print(lhr_df)\n",
    "\n",
    "lhr_df.to_csv('lhr.csv')"
   ]
  }
 ],
 "metadata": {
  "kernelspec": {
   "display_name": "Python 3",
   "language": "python",
   "name": "python3"
  },
  "language_info": {
   "codemirror_mode": {
    "name": "ipython",
    "version": 3
   },
   "file_extension": ".py",
   "mimetype": "text/x-python",
   "name": "python",
   "nbconvert_exporter": "python",
   "pygments_lexer": "ipython3",
   "version": "3.13.1"
  }
 },
 "nbformat": 4,
 "nbformat_minor": 5
}
