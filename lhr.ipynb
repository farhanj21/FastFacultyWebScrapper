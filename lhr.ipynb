{
 "cells": [
  {
   "cell_type": "code",
   "execution_count": 2,
   "id": "4f7a5505",
   "metadata": {},
   "outputs": [
    {
     "name": "stdout",
     "output_type": "stream",
     "text": [
      "Collecting requests\n",
      "  Downloading requests-2.32.3-py3-none-any.whl.metadata (4.6 kB)\n",
      "Collecting charset-normalizer<4,>=2 (from requests)\n",
      "  Downloading charset_normalizer-3.4.1-cp313-cp313-win_amd64.whl.metadata (36 kB)\n",
      "Requirement already satisfied: idna<4,>=2.5 in c:\\users\\f-jaf\\appdata\\local\\programs\\python\\python313\\lib\\site-packages (from requests) (3.10)\n",
      "Requirement already satisfied: urllib3<3,>=1.21.1 in c:\\users\\f-jaf\\appdata\\local\\programs\\python\\python313\\lib\\site-packages (from requests) (2.3.0)\n",
      "Requirement already satisfied: certifi>=2017.4.17 in c:\\users\\f-jaf\\appdata\\local\\programs\\python\\python313\\lib\\site-packages (from requests) (2024.12.14)\n",
      "Downloading requests-2.32.3-py3-none-any.whl (64 kB)\n",
      "Downloading charset_normalizer-3.4.1-cp313-cp313-win_amd64.whl (102 kB)\n",
      "Installing collected packages: charset-normalizer, requests\n",
      "Successfully installed charset-normalizer-3.4.1 requests-2.32.3\n"
     ]
    },
    {
     "name": "stderr",
     "output_type": "stream",
     "text": [
      "\n",
      "[notice] A new release of pip is available: 24.3.1 -> 25.0.1\n",
      "[notice] To update, run: python.exe -m pip install --upgrade pip\n"
     ]
    }
   ],
   "source": [
    "!pip install requests\n"
   ]
  },
  {
   "cell_type": "code",
   "execution_count": 3,
   "id": "9e1756ff",
   "metadata": {},
   "outputs": [
    {
     "ename": "ModuleNotFoundError",
     "evalue": "No module named 'bs4'",
     "output_type": "error",
     "traceback": [
      "\u001b[1;31m---------------------------------------------------------------------------\u001b[0m",
      "\u001b[1;31mModuleNotFoundError\u001b[0m                       Traceback (most recent call last)",
      "Cell \u001b[1;32mIn[3], line 2\u001b[0m\n\u001b[0;32m      1\u001b[0m \u001b[38;5;28;01mimport\u001b[39;00m\u001b[38;5;250m \u001b[39m\u001b[38;5;21;01mrequests\u001b[39;00m\n\u001b[1;32m----> 2\u001b[0m \u001b[38;5;28;01mfrom\u001b[39;00m\u001b[38;5;250m \u001b[39m\u001b[38;5;21;01mbs4\u001b[39;00m\u001b[38;5;250m \u001b[39m\u001b[38;5;28;01mimport\u001b[39;00m BeautifulSoup \n\u001b[0;32m      3\u001b[0m \u001b[38;5;28;01mimport\u001b[39;00m\u001b[38;5;250m \u001b[39m\u001b[38;5;21;01mpandas\u001b[39;00m\u001b[38;5;250m \u001b[39m\u001b[38;5;28;01mas\u001b[39;00m\u001b[38;5;250m \u001b[39m\u001b[38;5;21;01mpd\u001b[39;00m\n",
      "\u001b[1;31mModuleNotFoundError\u001b[0m: No module named 'bs4'"
     ]
    }
   ],
   "source": [
    "import requests\n",
    "from bs4 import BeautifulSoup \n",
    "import pandas as pd"
   ]
  },
  {
   "cell_type": "code",
   "execution_count": 226,
   "id": "428afd4c",
   "metadata": {},
   "outputs": [
    {
     "name": "stdout",
     "output_type": "stream",
     "text": [
      "<Response [200]>\n"
     ]
    }
   ],
   "source": [
    "# requesting the faculty page\n",
    "URL_lhr = \"http://lhr.nu.edu.pk/faculty/\"\n",
    "r_lhr = requests.get(URL_lhr) \n",
    "print(r_lhr) "
   ]
  },
  {
   "cell_type": "code",
   "execution_count": 227,
   "id": "e2a16673",
   "metadata": {},
   "outputs": [],
   "source": [
    "# creating a beautiful soup object\n",
    "soup_lhr = BeautifulSoup(r_lhr.content, 'html.parser') "
   ]
  },
  {
   "cell_type": "code",
   "execution_count": 228,
   "id": "3b2fa0ef",
   "metadata": {},
   "outputs": [],
   "source": [
    "# Extracting the faculty member cards\n",
    "faculty_lhr = soup_lhr.findAll('div', class_='facultyCard')\n"
   ]
  },
  {
   "cell_type": "code",
   "execution_count": 229,
   "id": "41a3e72d",
   "metadata": {},
   "outputs": [],
   "source": [
    "ID=[]\n",
    "name=[]\n",
    "email=[]\n",
    "designation=[]\n",
    "img=[]\n",
    "highest_education=[]\n",
    "HEC_approved=[]\n",
    "dept=[]\n",
    "extension=[]\n"
   ]
  },
  {
   "cell_type": "code",
   "execution_count": 230,
   "id": "730f4dae",
   "metadata": {},
   "outputs": [],
   "source": [
    "# extracting ID , image , name , email and designation along with whether or not the faculty member is an HEC Approved Supervisor  from the faculty page\n",
    "for f in faculty_lhr:\n",
    "    \n",
    "    try:\n",
    "        if(f.find('p',class_='small').text.strip().split('\\n')[2]):\n",
    "            HEC_approved.append(True)\n",
    "            \n",
    "    except IndexError:\n",
    "        HEC_approved.append(False)\n",
    "    \n",
    "    try:\n",
    "        ID.append(int(f.find('a',class_='faculty-link')['href'].split('/')[-1]))\n",
    "        \n",
    "    except:\n",
    "        ID.append(-1)\n",
    "        \n",
    "    name.append(f.find('h5',class_='text-center').text)\n",
    "        \n",
    "    designation.append(f.find('p',class_='small').text.strip().split('\\n')[0])\n",
    "    \n",
    "    email.append(f.find('p',class_='mb-0').text)\n",
    "    \n",
    "    img.append(\"https://lhr.nu.edu.pk\" + f.find('img', class_=\"card-img-top\")['src'])\n",
    "    \n",
    "    "
   ]
  },
  {
   "cell_type": "markdown",
   "id": "d406ada5",
   "metadata": {},
   "source": [
    "Extracting the dept for each faculty member"
   ]
  },
  {
   "cell_type": "code",
   "execution_count": 232,
   "id": "faa79178",
   "metadata": {},
   "outputs": [],
   "source": [
    "computer_dept = soup_lhr.find('div',id='fsc')\n",
    "computer_dept_faculty = computer_dept.descendants\n"
   ]
  },
  {
   "cell_type": "code",
   "execution_count": 233,
   "id": "39e95eda",
   "metadata": {},
   "outputs": [],
   "source": [
    "for element in computer_dept_faculty:\n",
    "    if element.name == 'h5' and 'text-center' in element.get('class', []):\n",
    "            dept.append('Computing')\n"
   ]
  },
  {
   "cell_type": "code",
   "execution_count": 234,
   "id": "2afbca5b",
   "metadata": {},
   "outputs": [],
   "source": [
    "ee_dept = soup_lhr.find('div',id='ee')\n",
    "ee_dept_faculty = ee_dept.descendants\n"
   ]
  },
  {
   "cell_type": "code",
   "execution_count": 235,
   "id": "4d0b00fb",
   "metadata": {},
   "outputs": [],
   "source": [
    "for element in ee_dept_faculty:\n",
    "    if element.name == 'h5' and 'text-center' in element.get('class', []):\n",
    "            dept.append('Electrical Engineering')\n",
    "   "
   ]
  },
  {
   "cell_type": "code",
   "execution_count": 236,
   "id": "b7ebb166",
   "metadata": {},
   "outputs": [],
   "source": [
    "cv_dept = soup_lhr.find('div',id='cv')\n",
    "cv_dept_faculty = cv_dept.descendants\n"
   ]
  },
  {
   "cell_type": "code",
   "execution_count": 237,
   "id": "a678940a",
   "metadata": {},
   "outputs": [],
   "source": [
    "for element in cv_dept_faculty:\n",
    "    if element.name == 'h5' and 'text-center' in element.get('class', []):\n",
    "            dept.append('Civil Engineering')\n"
   ]
  },
  {
   "cell_type": "code",
   "execution_count": 238,
   "id": "e7c6b6bd",
   "metadata": {},
   "outputs": [],
   "source": [
    "fsm_dept = soup_lhr.find('div',id='fsm')\n",
    "fsm_dept_faculty = fsm_dept.descendants"
   ]
  },
  {
   "cell_type": "code",
   "execution_count": 239,
   "id": "5fbb85e2",
   "metadata": {},
   "outputs": [],
   "source": [
    "for element in fsm_dept_faculty:\n",
    "    if element.name == 'h5' and 'text-center' in element.get('class', []):\n",
    "            dept.append('Management')\n"
   ]
  },
  {
   "cell_type": "code",
   "execution_count": 240,
   "id": "94a5d268",
   "metadata": {},
   "outputs": [],
   "source": [
    "ss_dept = soup_lhr.find('div',id='ss')\n",
    "ss_dept_faculty = ss_dept.descendants\n"
   ]
  },
  {
   "cell_type": "code",
   "execution_count": 241,
   "id": "4da8a094",
   "metadata": {},
   "outputs": [
    {
     "name": "stdout",
     "output_type": "stream",
     "text": [
      "175\n"
     ]
    }
   ],
   "source": [
    "for element in ss_dept_faculty:\n",
    "    if element.name == 'h5' and 'text-center' in element.get('class', []):\n",
    "            dept.append('Sciences and Humanities')\n"
   ]
  },
  {
   "cell_type": "code",
   "execution_count": 242,
   "id": "47e3ed4e",
   "metadata": {},
   "outputs": [],
   "source": [
    "# extracting the links for each faculty member's profile and then extracting the highest education and extension  \n",
    "\n",
    "for f in faculty_lhr:\n",
    "    \n",
    "    profile_URL = \"https://lhr.nu.edu.pk\" + f.find('a',class_='faculty-link')['href']\n",
    "    profile_page = requests.get(profile_URL)\n",
    "    profile_content = BeautifulSoup(profile_page.content, 'html.parser')\n",
    "    profile = profile_content.find('div',class_='container')\n",
    "    \n",
    "    try:\n",
    "        highest_education.append(profile.find('li').text)\n",
    "        \n",
    "    except AttributeError:\n",
    "            highest_education.append('Not Available')\n",
    "          \n",
    "    try:\n",
    "        extension.append(int(profile.find('span',class_=\"small\").text.split()[-1][-3:]))\n",
    "    \n",
    "    except ValueError:\n",
    "        extension.append(-1)"
   ]
  },
  {
   "cell_type": "code",
   "execution_count": 245,
   "id": "c61684a0",
   "metadata": {},
   "outputs": [
    {
     "name": "stdout",
     "output_type": "stream",
     "text": [
      "       ID                      Name          Designation  \\\n",
      "0    1238          Dr. Kashif Zafar      Professor & HOD   \n",
      "1    4391  Dr. Asif Mahmood Gillani            Professor   \n",
      "2    5424         Dr. Hammad Naveed            Professor   \n",
      "3    4027            Dr. Aamir Wali  Associate Professor   \n",
      "4    6174            Dr. Arshad Ali  Associate Professor   \n",
      "..    ...                       ...                  ...   \n",
      "170  6420         Ms. Nokhaiz Zahra           Instructor   \n",
      "171  6181            Ms. Rida Ahmed           Instructor   \n",
      "172  6555              Ms. Aqsa Naz   Lecturer (English)   \n",
      "173    -1    Mr. Hafiz Umair Gulzar  Lecturer (Islamiat)   \n",
      "174  6548          Ms. Rubab Arshad   Lecturer (English)   \n",
      "\n",
      "     HEC Approved PHD Supervisor  \\\n",
      "0                           True   \n",
      "1                           True   \n",
      "2                           True   \n",
      "3                           True   \n",
      "4                           True   \n",
      "..                           ...   \n",
      "170                        False   \n",
      "171                        False   \n",
      "172                        False   \n",
      "173                        False   \n",
      "174                        False   \n",
      "\n",
      "                                     Highest Education  \\\n",
      "0      Ph.D(Computer Science), NUCES, Islamabad, Pa...   \n",
      "1      Ph.D(Computing), University of Patras , Gree...   \n",
      "2     Ph.D. (Bioengineering), The University of Ill...   \n",
      "3       PhD (CS), FAST-NUCES, Lahore, Pakistan (2019)    \n",
      "4      PhD (CS), University of Paris VI (UPMC) Pari...   \n",
      "..                                                 ...   \n",
      "170                      MA, Virtual University(2020)    \n",
      "171    BS (English), Fatima Jinnah Women University...   \n",
      "172              M.Phil (English), UCP, Lahore (2022)    \n",
      "173      M.Phil (Islamic Studies), GCU, Lahore (2019)    \n",
      "174    MS (Applied Linguistics), NUCES, Lahore (2022)    \n",
      "\n",
      "                       Email               Department  Extension  \\\n",
      "0     kashif.zafar@nu.edu.pk                Computing        221   \n",
      "1      asif.gilani@nu.edu.pk                Computing        291   \n",
      "2    hammad.naveed@nu.edu.pk                Computing        227   \n",
      "3       aamir.wali@nu.edu.pk                Computing        260   \n",
      "4      arshad.ali1@nu.edu.pk                Computing        406   \n",
      "..                       ...                      ...        ...   \n",
      "170  nokhaiz.zahra@nu.edu.pk  Sciences and Humanities        324   \n",
      "171     rida.ahmed@nu.edu.pk  Sciences and Humanities        363   \n",
      "172       aqsa.naz@nu.edu.pk  Sciences and Humanities        324   \n",
      "173   umair.gulzar@nu.edu.pk  Sciences and Humanities        207   \n",
      "174   rubab.arshad@nu.edu.pk  Sciences and Humanities        286   \n",
      "\n",
      "                                              ImageURL  \n",
      "0    https://lhr.nu.edu.pk/media/Faculty/02_-_Dr._K...  \n",
      "1    https://lhr.nu.edu.pk/media/Faculty/03_-_Dr._A...  \n",
      "2    https://lhr.nu.edu.pk/media/Faculty/01_-_Dr._H...  \n",
      "3    https://lhr.nu.edu.pk/media/Faculty/44_-_Dr._A...  \n",
      "4    https://lhr.nu.edu.pk/media/Faculty/04_-_Dr._A...  \n",
      "..                                                 ...  \n",
      "170  https://lhr.nu.edu.pk/media/Faculty/165_-_Nokh...  \n",
      "171  https://lhr.nu.edu.pk/media/Faculty/6181-remov...  \n",
      "172  https://lhr.nu.edu.pk/media/Faculty/161_-_Aqsa...  \n",
      "173  https://lhr.nu.edu.pk/media/Faculty/163_-_Hafi...  \n",
      "174  https://lhr.nu.edu.pk/media/Faculty/162_-_Ruba...  \n",
      "\n",
      "[175 rows x 9 columns]\n"
     ]
    }
   ],
   "source": [
    "# creating the dataframe\n",
    "lhr_df = pd.DataFrame({'ID': ID , 'Name': name , 'Designation': designation , 'HEC Approved PHD Supervisor': HEC_approved ,\n",
    "                       'Highest Education': highest_education , 'Email' : email , 'Department': dept , 'Extension': extension ,\n",
    "                       'ImageURL': img })\n",
    "print(lhr_df)\n",
    "\n",
    "lhr_df.to_csv('lhr.csv')"
   ]
  },
  {
   "cell_type": "code",
   "execution_count": null,
   "id": "2b347a2b",
   "metadata": {},
   "outputs": [],
   "source": []
  }
 ],
 "metadata": {
  "kernelspec": {
   "display_name": "Python 3",
   "language": "python",
   "name": "python3"
  },
  "language_info": {
   "codemirror_mode": {
    "name": "ipython",
    "version": 3
   },
   "file_extension": ".py",
   "mimetype": "text/x-python",
   "name": "python",
   "nbconvert_exporter": "python",
   "pygments_lexer": "ipython3",
   "version": "3.13.1"
  }
 },
 "nbformat": 4,
 "nbformat_minor": 5
}
