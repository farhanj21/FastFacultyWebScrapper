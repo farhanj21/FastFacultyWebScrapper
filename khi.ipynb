{
 "cells": [
  {
   "cell_type": "code",
   "execution_count": 3,
   "id": "1564c514",
   "metadata": {},
   "outputs": [],
   "source": [
    "import requests\n",
    "from bs4 import BeautifulSoup \n",
    "import pandas as pd"
   ]
  },
  {
   "cell_type": "code",
   "execution_count": 4,
   "id": "c62c3b61",
   "metadata": {},
   "outputs": [
    {
     "name": "stdout",
     "output_type": "stream",
     "text": [
      "<Response [200]>\n"
     ]
    }
   ],
   "source": [
    "# requesting the faculty page for the cs dept\n",
    "URL_khi_cs = \"https://khi.nu.edu.pk/faculty-php/\"\n",
    "r_khi_cs = requests.get(URL_khi_cs) \n",
    "print(r_khi_cs) \n",
    "\n",
    "soup_khi_cs = BeautifulSoup(r_khi_cs.content, 'html.parser')\n"
   ]
  },
  {
   "cell_type": "code",
   "execution_count": 5,
   "id": "591f6fc5",
   "metadata": {},
   "outputs": [
    {
     "name": "stdout",
     "output_type": "stream",
     "text": [
      "57\n"
     ]
    },
    {
     "name": "stderr",
     "output_type": "stream",
     "text": [
      "C:\\Users\\f-jaf\\AppData\\Local\\Temp\\ipykernel_17020\\2740366542.py:2: DeprecationWarning: Call to deprecated method findAll. (Replaced by find_all) -- Deprecated since version 4.0.0.\n",
      "  faculty_khi_cs = soup_khi_cs.findAll('div', class_='gdlr-core-personnel-list')\n"
     ]
    }
   ],
   "source": [
    "# Extracting the faculty member cards\n",
    "faculty_khi_cs = soup_khi_cs.findAll('div', class_='gdlr-core-personnel-list')\n",
    "\n",
    "print(len(faculty_khi_cs))"
   ]
  },
  {
   "cell_type": "code",
   "execution_count": 6,
   "id": "c8dc004c",
   "metadata": {},
   "outputs": [],
   "source": [
    "ID=[]\n",
    "name=[]\n",
    "email=[]\n",
    "designation=[]\n",
    "img=[]\n",
    "highest_education=[]\n",
    "HEC_approved=[]\n",
    "dept=[]\n",
    "extension=[]"
   ]
  },
  {
   "cell_type": "code",
   "execution_count": 7,
   "id": "833593d1",
   "metadata": {},
   "outputs": [
    {
     "name": "stderr",
     "output_type": "stream",
     "text": [
      "C:\\Users\\f-jaf\\AppData\\Local\\Temp\\ipykernel_17020\\1334466187.py:33: DeprecationWarning: Call to deprecated method findAll. (Replaced by find_all) -- Deprecated since version 4.0.0.\n",
      "  profile_info = profile_content.findAll('span',class_={'gdlr-core-title-item-caption' : True , \"gdlr-core-icon-list-content\" : True })\n"
     ]
    }
   ],
   "source": [
    "# extracting ID , image , name , email , designation , dept , extension,  highest education and if HEC Approved Supervisor\n",
    "for f in faculty_khi_cs:\n",
    "    try:\n",
    "        name.append(f.find('h3', class_='gdlr-core-personnel-list-title').text.split(',')[0])\n",
    "    except:\n",
    "        name.append(f.find('h3', class_='gdlr-core-personnel-list-title').text)\n",
    "\n",
    "    try:\n",
    "        img.append(f.find('img')['src'])\n",
    "    except TypeError:\n",
    "        img.append(\"Not Available\")\n",
    "\n",
    "    designation.append(f.find('div', class_='gdlr-core-personnel-list-position').text)\n",
    "    email.append(f.find('div', class_='kingster-type-email').text)\n",
    "    dept.append(\"Computing\")\n",
    "    profile_link = f.find('a', class_='gdlr-core-personnel-list-button')['href']\n",
    "    profile = requests.get(profile_link)\n",
    "    profile_content = BeautifulSoup(profile.content, 'html.parser')\n",
    "    ID.append(int(profile_content.find('body').get('class')[3][-4:]))\n",
    "    HEC = profile_content.find('span', class_='gdlr-core-title-item-caption').text.strip().split('\\n')\n",
    "\n",
    "    if len(HEC) == 3:\n",
    "        HEC_approved.append(True)\n",
    "    else:\n",
    "        HEC_approved.append(False)\n",
    "\n",
    "    try:\n",
    "        extension.append(int(f.find('div', class_='kingster-type-phone').text))\n",
    "        \n",
    "    except:\n",
    "        extension.append(-1)\n",
    "\n",
    "    profile_info = profile_content.findAll('span',class_={'gdlr-core-title-item-caption' : True , \"gdlr-core-icon-list-content\" : True })\n",
    "    check = False\n",
    "\n",
    "    try:\n",
    "        for p in profile_info:\n",
    "            text = p.text.split()[0]\n",
    "            if text == 'PhD' and check==False:\n",
    "                highest_education.append(p.text)\n",
    "                check = True\n",
    "            elif text == 'PostDoc' and check==False:\n",
    "                highest_education.append(p.text)\n",
    "                check = True\n",
    "            elif text == 'MS' and check==False:\n",
    "                highest_education.append(p.text)\n",
    "                check = True\n",
    "            elif text == 'ME' and check==False:\n",
    "                highest_education.append(p.text)\n",
    "                check = True\n",
    "            elif text == 'MCS,' and check==False:\n",
    "                highest_education.append(p.text)\n",
    "                check = True\n",
    "            elif text == 'MPhil' and check==False:\n",
    "                highest_education.append(p.text)\n",
    "                check = True\n",
    "            elif text == 'BS' and check==False:\n",
    "                highest_education.append(p.text)\n",
    "                check = True\n",
    "            elif text == 'BE' and check==False:\n",
    "                highest_education.append(p.text)\n",
    "                check = True\n",
    "        if check==False:\n",
    "            highest_education.append('Not Available')\n",
    "    except:\n",
    "        highest_education.append('Not Available')"
   ]
  },
  {
   "cell_type": "code",
   "execution_count": 8,
   "id": "6a55ce91",
   "metadata": {},
   "outputs": [
    {
     "name": "stdout",
     "output_type": "stream",
     "text": [
      "<Response [200]>\n"
     ]
    }
   ],
   "source": [
    "# requesting the faculty page for the cybersecurity dept\n",
    "URL_khi_cb = \"https://khi.nu.edu.pk/department-of-cyber-security/\"\n",
    "r_khi_cb = requests.get(URL_khi_cb) \n",
    "print(r_khi_cb) \n",
    "\n",
    "\n",
    "soup_khi_cb = BeautifulSoup(r_khi_cb.content, 'html.parser') "
   ]
  },
  {
   "cell_type": "code",
   "execution_count": 9,
   "id": "64e62933",
   "metadata": {},
   "outputs": [
    {
     "name": "stdout",
     "output_type": "stream",
     "text": [
      "13\n"
     ]
    },
    {
     "name": "stderr",
     "output_type": "stream",
     "text": [
      "C:\\Users\\f-jaf\\AppData\\Local\\Temp\\ipykernel_17020\\1973125077.py:2: DeprecationWarning: Call to deprecated method findAll. (Replaced by find_all) -- Deprecated since version 4.0.0.\n",
      "  faculty_khi_cb = soup_khi_cb.findAll('div', class_='gdlr-core-personnel-list')\n"
     ]
    }
   ],
   "source": [
    "# Extracting the faculty member cards\n",
    "faculty_khi_cb = soup_khi_cb.findAll('div', class_='gdlr-core-personnel-list')\n",
    "\n",
    "print(len(faculty_khi_cb))"
   ]
  },
  {
   "cell_type": "code",
   "execution_count": 10,
   "id": "f9bc1f54",
   "metadata": {},
   "outputs": [
    {
     "name": "stderr",
     "output_type": "stream",
     "text": [
      "C:\\Users\\f-jaf\\AppData\\Local\\Temp\\ipykernel_17020\\2254378696.py:33: DeprecationWarning: Call to deprecated method findAll. (Replaced by find_all) -- Deprecated since version 4.0.0.\n",
      "  profile_info = profile_content.findAll('span',class_={'gdlr-core-title-item-caption' : True , \"gdlr-core-icon-list-content\" : True })\n"
     ]
    }
   ],
   "source": [
    "# extracting ID , image , name , email , designation , dept , extension,  highest education and if HEC Approved Supervisor\n",
    "for f in faculty_khi_cb:\n",
    "    try:\n",
    "        name.append(f.find('h3', class_='gdlr-core-personnel-list-title').text.split(',')[0])\n",
    "    except:\n",
    "        name.append(f.find('h3', class_='gdlr-core-personnel-list-title').text)\n",
    "\n",
    "    try:\n",
    "        img.append(f.find('img')['src'])\n",
    "    except TypeError:\n",
    "        img.append(\"Not Available\")\n",
    "\n",
    "    designation.append(f.find('div', class_='gdlr-core-personnel-list-position').text)\n",
    "    email.append(f.find('div', class_='kingster-type-email').text)\n",
    "    dept.append(\"Cyber Security\")\n",
    "    profile_link = f.find('a', class_='gdlr-core-personnel-list-button')['href']\n",
    "    profile = requests.get(profile_link)\n",
    "    profile_content = BeautifulSoup(profile.content, 'html.parser')\n",
    "    ID.append(int(profile_content.find('body').get('class')[3][-4:]))\n",
    "    HEC = profile_content.find('span', class_='gdlr-core-title-item-caption').text.strip().split('\\n')\n",
    "\n",
    "    if len(HEC) == 3 or 'HEC Approved PhD Supervisor' in HEC[0]:\n",
    "        HEC_approved.append(True)\n",
    "    else:\n",
    "        HEC_approved.append(False)\n",
    "\n",
    "    try:\n",
    "        \n",
    "        extension.append(int(f.find('div', class_='kingster-type-phone').text))\n",
    "    except:\n",
    "        extension.append(-1)\n",
    "\n",
    "    profile_info = profile_content.findAll('span',class_={'gdlr-core-title-item-caption' : True , \"gdlr-core-icon-list-content\" : True })\n",
    "    check = False\n",
    "\n",
    "    try:\n",
    "        for p in profile_info:\n",
    "            text = p.text.split()[0]\n",
    "            if text == 'PhD' and check==False:\n",
    "                highest_education.append(p.text)\n",
    "                check = True\n",
    "            elif text == 'PostDoc' and check==False:\n",
    "                highest_education.append(p.text)\n",
    "                check = True\n",
    "            elif text == 'MS' and check==False:\n",
    "                highest_education.append(p.text)\n",
    "                check = True\n",
    "            elif text == 'ME' and check==False:\n",
    "                highest_education.append(p.text)\n",
    "                check = True\n",
    "            elif text == 'MCS,' and check==False:\n",
    "                highest_education.append(p.text)\n",
    "                check = True\n",
    "            elif text == 'MPhil' and check==False:\n",
    "                highest_education.append(p.text)\n",
    "                check = True\n",
    "            elif text == 'BS' and check==False:\n",
    "                highest_education.append(p.text)\n",
    "                check = True\n",
    "            elif text == 'BE' and check==False:\n",
    "                highest_education.append(p.text)\n",
    "                check = True\n",
    "        if check==False:\n",
    "            highest_education.append('Not Available')\n",
    "    except:\n",
    "        highest_education.append('Not Available')"
   ]
  },
  {
   "cell_type": "code",
   "execution_count": 11,
   "id": "80db5b4e",
   "metadata": {},
   "outputs": [
    {
     "name": "stdout",
     "output_type": "stream",
     "text": [
      "70\n",
      "70\n",
      "70\n",
      "70\n",
      "70\n",
      "70\n",
      "70\n",
      "70\n",
      "70\n"
     ]
    }
   ],
   "source": [
    "# printing the length of the lists\n",
    "print(len(ID))\n",
    "print(len(name))\n",
    "print(len(designation))\n",
    "print(len(email))\n",
    "print(len(highest_education))\n",
    "print(len(HEC_approved))\n",
    "print(len(dept))\n",
    "print(len(extension))\n",
    "print(len(img))"
   ]
  },
  {
   "cell_type": "code",
   "execution_count": 12,
   "id": "e2e36ff6",
   "metadata": {},
   "outputs": [
    {
     "name": "stdout",
     "output_type": "stream",
     "text": [
      "<Response [200]>\n"
     ]
    }
   ],
   "source": [
    "# requesting the faculty page for the artificial intelligence dept\n",
    "URL_khi_ai = \"https://khi.nu.edu.pk/department-of-artificial-intelligence/\"\n",
    "r_khi_ai = requests.get(URL_khi_ai) \n",
    "print(r_khi_ai) \n",
    "\n",
    "soup_khi_ai = BeautifulSoup(r_khi_ai.content, 'html.parser') "
   ]
  },
  {
   "cell_type": "code",
   "execution_count": 13,
   "id": "d8f3155b",
   "metadata": {},
   "outputs": [
    {
     "name": "stdout",
     "output_type": "stream",
     "text": [
      "18\n"
     ]
    },
    {
     "name": "stderr",
     "output_type": "stream",
     "text": [
      "C:\\Users\\f-jaf\\AppData\\Local\\Temp\\ipykernel_17020\\672273036.py:2: DeprecationWarning: Call to deprecated method findAll. (Replaced by find_all) -- Deprecated since version 4.0.0.\n",
      "  faculty_khi_ai = soup_khi_ai.findAll('div', class_='gdlr-core-personnel-list')\n"
     ]
    }
   ],
   "source": [
    "# Extracting the faculty member cards\n",
    "faculty_khi_ai = soup_khi_ai.findAll('div', class_='gdlr-core-personnel-list')\n",
    "\n",
    "print(len(faculty_khi_ai))"
   ]
  },
  {
   "cell_type": "code",
   "execution_count": 14,
   "id": "0c935b08",
   "metadata": {},
   "outputs": [
    {
     "name": "stderr",
     "output_type": "stream",
     "text": [
      "C:\\Users\\f-jaf\\AppData\\Local\\Temp\\ipykernel_17020\\3157958295.py:32: DeprecationWarning: Call to deprecated method findAll. (Replaced by find_all) -- Deprecated since version 4.0.0.\n",
      "  profile_info = profile_content.findAll('span',class_={'gdlr-core-title-item-caption' : True , \"gdlr-core-icon-list-content\" : True })\n"
     ]
    }
   ],
   "source": [
    "# extracting ID , image , name , email , designation , dept , extension,  highest education and if HEC Approved Supervisor\n",
    "for f in faculty_khi_ai:\n",
    "    try:\n",
    "        name.append(f.find('h3', class_='gdlr-core-personnel-list-title').text.split(',')[0])\n",
    "    except:\n",
    "        name.append(f.find('h3', class_='gdlr-core-personnel-list-title').text)\n",
    "\n",
    "    try:\n",
    "        img.append(f.find('img')['src'])\n",
    "    except TypeError:\n",
    "        img.append(\"Not Available\")\n",
    "\n",
    "    designation.append(f.find('div', class_='gdlr-core-personnel-list-position').text)\n",
    "    email.append(f.find('div', class_='kingster-type-email').text)\n",
    "    dept.append(\"Artificial Intelligence\")\n",
    "    profile_link = f.find('a', class_='gdlr-core-personnel-list-button')['href']\n",
    "    profile = requests.get(profile_link)\n",
    "    profile_content = BeautifulSoup(profile.content, 'html.parser')\n",
    "    ID.append(int(profile_content.find('body').get('class')[3][-4:]))\n",
    "    HEC = profile_content.find('span', class_='gdlr-core-title-item-caption').text.strip().split('\\n')\n",
    "\n",
    "    if len(HEC) == 3 or 'HEC Approved PhD Supervisor' in HEC[0]:\n",
    "        HEC_approved.append(True)\n",
    "    else:\n",
    "        HEC_approved.append(False)\n",
    "\n",
    "    try:\n",
    "        extension.append(int(f.find('div', class_='kingster-type-phone').text))\n",
    "    except:\n",
    "        extension.append(-1)\n",
    "\n",
    "    profile_info = profile_content.findAll('span',class_={'gdlr-core-title-item-caption' : True , \"gdlr-core-icon-list-content\" : True })\n",
    "    check = False\n",
    "\n",
    "    try:\n",
    "        for p in profile_info:\n",
    "            text = p.text.split()[0]\n",
    "            if text == 'PhD' and check==False:\n",
    "                highest_education.append(p.text)\n",
    "                check = True\n",
    "            elif text == 'PostDoc' and check==False:\n",
    "                highest_education.append(p.text)\n",
    "                check = True\n",
    "            elif text == 'MS' and check==False:\n",
    "                highest_education.append(p.text)\n",
    "                check = True\n",
    "            elif text == 'ME' and check==False:\n",
    "                highest_education.append(p.text)\n",
    "                check = True\n",
    "            elif text == 'MCS,' and check==False:\n",
    "                highest_education.append(p.text)\n",
    "                check = True\n",
    "            elif text == 'MPhil' and check==False:\n",
    "                highest_education.append(p.text)\n",
    "                check = True\n",
    "            elif text == 'BS' and check==False:\n",
    "                highest_education.append(p.text)\n",
    "                check = True\n",
    "            elif text == 'BE' and check==False:\n",
    "                highest_education.append(p.text)\n",
    "                check = True\n",
    "        if check==False:\n",
    "            highest_education.append('Not Available')\n",
    "    except:\n",
    "        highest_education.append('Not Available')"
   ]
  },
  {
   "cell_type": "code",
   "execution_count": 15,
   "id": "c7059818",
   "metadata": {},
   "outputs": [
    {
     "name": "stdout",
     "output_type": "stream",
     "text": [
      "88\n",
      "88\n",
      "88\n",
      "88\n",
      "88\n",
      "88\n",
      "88\n",
      "88\n",
      "88\n"
     ]
    }
   ],
   "source": [
    "# printing the length of the lists\n",
    "print(len(ID))\n",
    "print(len(name))\n",
    "print(len(designation))\n",
    "print(len(email))\n",
    "print(len(highest_education))\n",
    "print(len(HEC_approved))\n",
    "print(len(dept))\n",
    "print(len(extension))\n",
    "print(len(img))"
   ]
  },
  {
   "cell_type": "code",
   "execution_count": 16,
   "id": "286f53bd",
   "metadata": {},
   "outputs": [
    {
     "name": "stdout",
     "output_type": "stream",
     "text": [
      "<Response [200]>\n"
     ]
    }
   ],
   "source": [
    "# requesting the faculty page for the software engineering dept\n",
    "URL_khi_se = \"https://khi.nu.edu.pk/department-of-software-engineering/\"\n",
    "r_khi_se = requests.get(URL_khi_se) \n",
    "print(r_khi_se) \n",
    "\n",
    "soup_khi_se = BeautifulSoup(r_khi_se.content, 'html.parser') "
   ]
  },
  {
   "cell_type": "code",
   "execution_count": 17,
   "id": "89927853",
   "metadata": {},
   "outputs": [
    {
     "name": "stdout",
     "output_type": "stream",
     "text": [
      "12\n"
     ]
    },
    {
     "name": "stderr",
     "output_type": "stream",
     "text": [
      "C:\\Users\\f-jaf\\AppData\\Local\\Temp\\ipykernel_17020\\737056071.py:2: DeprecationWarning: Call to deprecated method findAll. (Replaced by find_all) -- Deprecated since version 4.0.0.\n",
      "  faculty_khi_se = soup_khi_se.findAll('div', class_='gdlr-core-personnel-list')\n"
     ]
    }
   ],
   "source": [
    "# Extracting the faculty member cards\n",
    "faculty_khi_se = soup_khi_se.findAll('div', class_='gdlr-core-personnel-list')\n",
    "\n",
    "print(len(faculty_khi_se))"
   ]
  },
  {
   "cell_type": "code",
   "execution_count": 18,
   "id": "00f679e6",
   "metadata": {},
   "outputs": [
    {
     "name": "stderr",
     "output_type": "stream",
     "text": [
      "C:\\Users\\f-jaf\\AppData\\Local\\Temp\\ipykernel_17020\\3625863882.py:32: DeprecationWarning: Call to deprecated method findAll. (Replaced by find_all) -- Deprecated since version 4.0.0.\n",
      "  profile_info = profile_content.findAll('span',class_={'gdlr-core-title-item-caption' : True , \"gdlr-core-icon-list-content\" : True })\n"
     ]
    }
   ],
   "source": [
    "# extracting ID , image , name , email , designation , dept , extension,  highest education and if HEC Approved Supervisor\n",
    "for f in faculty_khi_se:\n",
    "    try:\n",
    "        name.append(f.find('h3', class_='gdlr-core-personnel-list-title').text.split(',')[0])\n",
    "    except:\n",
    "        name.append(f.find('h3', class_='gdlr-core-personnel-list-title').text)\n",
    "\n",
    "    try:\n",
    "        img.append(f.find('img')['src'])\n",
    "    except TypeError:\n",
    "        img.append(\"Not Available\")\n",
    "\n",
    "    designation.append(f.find('div', class_='gdlr-core-personnel-list-position').text)\n",
    "    email.append(f.find('div', class_='kingster-type-email').text)\n",
    "    dept.append(\"Software Engineering\")\n",
    "    profile_link = f.find('a', class_='gdlr-core-personnel-list-button')['href']\n",
    "    profile = requests.get(profile_link)\n",
    "    profile_content = BeautifulSoup(profile.content, 'html.parser')\n",
    "    ID.append(int(profile_content.find('body').get('class')[3][-4:]))\n",
    "    HEC = profile_content.find('span', class_='gdlr-core-title-item-caption').text.strip().split('\\n')\n",
    "\n",
    "    if len(HEC) == 3 or 'HEC Approved PhD Supervisor' in HEC[0]:\n",
    "        HEC_approved.append(True)\n",
    "    else:\n",
    "        HEC_approved.append(False)\n",
    "\n",
    "    try:\n",
    "        extension.append(int(f.find('div', class_='kingster-type-phone').text))\n",
    "    except:\n",
    "        extension.append(-1)\n",
    "\n",
    "    profile_info = profile_content.findAll('span',class_={'gdlr-core-title-item-caption' : True , \"gdlr-core-icon-list-content\" : True })\n",
    "    check = False\n",
    "\n",
    "    try:\n",
    "        for p in profile_info:\n",
    "            text = p.text.split()[0]\n",
    "            if text == 'PhD' and check==False:\n",
    "                highest_education.append(p.text)\n",
    "                check = True\n",
    "            elif text == 'PhD-IT' and check==False:\n",
    "                highest_education.append(p.text)\n",
    "                check = True\n",
    "            elif text == 'PostDoc' and check==False:\n",
    "                highest_education.append(p.text)\n",
    "                check = True\n",
    "            elif text == 'MS' and check==False:\n",
    "                highest_education.append(p.text)\n",
    "                check = True\n",
    "            elif text == 'ME' and check==False:\n",
    "                highest_education.append(p.text)\n",
    "                check = True\n",
    "            elif text == 'MCS,' and check==False:\n",
    "                highest_education.append(p.text)\n",
    "                check = True\n",
    "            elif text == 'MPhil' and check==False:\n",
    "                highest_education.append(p.text)\n",
    "                check = True\n",
    "            elif text == 'BS' and check==False:\n",
    "                highest_education.append(p.text)\n",
    "                check = True\n",
    "            elif text == 'BE' and check==False:\n",
    "                highest_education.append(p.text)\n",
    "                check = True\n",
    "        if check==False:\n",
    "            highest_education.append('Not Available')\n",
    "    except:\n",
    "        highest_education.append('Not Available')"
   ]
  },
  {
   "cell_type": "code",
   "execution_count": 19,
   "id": "800bd31a",
   "metadata": {},
   "outputs": [
    {
     "name": "stdout",
     "output_type": "stream",
     "text": [
      "100\n",
      "100\n",
      "100\n",
      "100\n",
      "100\n",
      "100\n",
      "100\n",
      "100\n",
      "100\n"
     ]
    }
   ],
   "source": [
    "# printing the length of the lists\n",
    "print(len(ID))\n",
    "print(len(name))\n",
    "print(len(designation))\n",
    "print(len(email))\n",
    "print(len(highest_education))\n",
    "print(len(HEC_approved))\n",
    "print(len(dept))\n",
    "print(len(extension))\n",
    "print(len(img))"
   ]
  },
  {
   "cell_type": "code",
   "execution_count": 20,
   "id": "0715495b",
   "metadata": {},
   "outputs": [
    {
     "name": "stdout",
     "output_type": "stream",
     "text": [
      "<Response [200]>\n"
     ]
    }
   ],
   "source": [
    "# requesting the faculty page for the electrical engineering dept\n",
    "URL_khi_ee = \"https://khi.nu.edu.pk/department-of-electrical-engineering/\"\n",
    "r_khi_ee = requests.get(URL_khi_ee) \n",
    "print(r_khi_ee) \n",
    "\n",
    "soup_khi_ee = BeautifulSoup(r_khi_ee.content, 'html.parser') "
   ]
  },
  {
   "cell_type": "code",
   "execution_count": 21,
   "id": "8a1b31d3",
   "metadata": {},
   "outputs": [
    {
     "name": "stdout",
     "output_type": "stream",
     "text": [
      "14\n"
     ]
    },
    {
     "name": "stderr",
     "output_type": "stream",
     "text": [
      "C:\\Users\\f-jaf\\AppData\\Local\\Temp\\ipykernel_17020\\1505928670.py:2: DeprecationWarning: Call to deprecated method findAll. (Replaced by find_all) -- Deprecated since version 4.0.0.\n",
      "  faculty_khi_ee = soup_khi_ee.findAll('div', class_='gdlr-core-personnel-list')\n"
     ]
    }
   ],
   "source": [
    "# Extracting the faculty member cards\n",
    "faculty_khi_ee = soup_khi_ee.findAll('div', class_='gdlr-core-personnel-list')\n",
    "\n",
    "print(len(faculty_khi_ee))"
   ]
  },
  {
   "cell_type": "code",
   "execution_count": 22,
   "id": "79a218d5",
   "metadata": {},
   "outputs": [
    {
     "name": "stderr",
     "output_type": "stream",
     "text": [
      "C:\\Users\\f-jaf\\AppData\\Local\\Temp\\ipykernel_17020\\1791329719.py:32: DeprecationWarning: Call to deprecated method findAll. (Replaced by find_all) -- Deprecated since version 4.0.0.\n",
      "  profile_info = profile_content.findAll('span',class_={'gdlr-core-title-item-caption' : True , \"gdlr-core-icon-list-content\" : True })\n"
     ]
    }
   ],
   "source": [
    "# extracting ID , image , name , email , designation , dept , extension,  highest education and if HEC Approved Supervisor\n",
    "for f in faculty_khi_ee:\n",
    "    try:\n",
    "        name.append(f.find('h3', class_='gdlr-core-personnel-list-title').text.split(',')[0])\n",
    "    except:\n",
    "        name.append(f.find('h3', class_='gdlr-core-personnel-list-title').text)\n",
    "\n",
    "    try:\n",
    "        img.append(f.find('img')['src'])\n",
    "    except TypeError:\n",
    "        img.append(\"Not Available\")\n",
    "\n",
    "    designation.append(f.find('div', class_='gdlr-core-personnel-list-position').text)\n",
    "    email.append(f.find('div', class_='kingster-type-email').text)\n",
    "    dept.append(\"Electrical Engineering\")\n",
    "    profile_link = f.find('a', class_='gdlr-core-personnel-list-button')['href']\n",
    "    profile = requests.get(profile_link)\n",
    "    profile_content = BeautifulSoup(profile.content, 'html.parser')\n",
    "    ID.append(int(profile_content.find('body').get('class')[3][-4:]))\n",
    "    HEC = profile_content.find('span', class_='gdlr-core-title-item-caption').text.strip().split('\\n')\n",
    "\n",
    "    if len(HEC) == 3 or 'HEC Approved PhD Supervisor' in HEC[0]:\n",
    "        HEC_approved.append(True)\n",
    "    else:\n",
    "        HEC_approved.append(False)\n",
    "\n",
    "    try:\n",
    "        extension.append(int(f.find('div', class_='kingster-type-phone').text))\n",
    "    except:\n",
    "        extension.append(-1)\n",
    "\n",
    "    profile_info = profile_content.findAll('span',class_={'gdlr-core-title-item-caption' : True , \"gdlr-core-icon-list-content\" : True })\n",
    "    check = False\n",
    "\n",
    "    try:\n",
    "        for p in profile_info:\n",
    "            text = p.text.split()[0]\n",
    "            if text == 'PhD' and check==False:\n",
    "                highest_education.append(p.text)\n",
    "                check = True\n",
    "            elif text == 'PhD-IT' and check==False:\n",
    "                highest_education.append(p.text)\n",
    "                check = True\n",
    "            elif text == 'PostDoc' and check==False:\n",
    "                highest_education.append(p.text)\n",
    "                check = True\n",
    "            elif text == 'MS' and check==False:\n",
    "                highest_education.append(p.text)\n",
    "                check = True\n",
    "            elif text == 'ME' and check==False:\n",
    "                highest_education.append(p.text)\n",
    "                check = True\n",
    "            elif text == 'MCS,' and check==False:\n",
    "                highest_education.append(p.text)\n",
    "                check = True\n",
    "            elif text == 'MPhil' and check==False:\n",
    "                highest_education.append(p.text)\n",
    "                check = True\n",
    "            elif text == 'BS' and check==False:\n",
    "                highest_education.append(p.text)\n",
    "                check = True\n",
    "            elif text == 'BE' and check==False:\n",
    "                highest_education.append(p.text)\n",
    "                check = True\n",
    "        if check==False:\n",
    "            highest_education.append('Not Available')\n",
    "    except:\n",
    "        highest_education.append('Not Available')"
   ]
  },
  {
   "cell_type": "code",
   "execution_count": 23,
   "id": "e0579a4b",
   "metadata": {},
   "outputs": [
    {
     "name": "stdout",
     "output_type": "stream",
     "text": [
      "114\n",
      "114\n",
      "114\n",
      "114\n",
      "114\n",
      "114\n",
      "114\n",
      "114\n",
      "114\n"
     ]
    }
   ],
   "source": [
    "# printing the length of the lists\n",
    "print(len(ID))\n",
    "print(len(name))\n",
    "print(len(designation))\n",
    "print(len(email))\n",
    "print(len(highest_education))\n",
    "print(len(HEC_approved))\n",
    "print(len(dept))\n",
    "print(len(extension))\n",
    "print(len(img))"
   ]
  },
  {
   "cell_type": "code",
   "execution_count": 24,
   "id": "b98d4085",
   "metadata": {},
   "outputs": [
    {
     "name": "stdout",
     "output_type": "stream",
     "text": [
      "<Response [200]>\n"
     ]
    }
   ],
   "source": [
    "# requesting the faculty page for the management sciences dept\n",
    "URL_khi_ms = \"https://khi.nu.edu.pk/department-of-management-sciences/\"\n",
    "r_khi_ms = requests.get(URL_khi_ms) \n",
    "print(r_khi_ms) \n",
    "\n",
    "soup_khi_ms = BeautifulSoup(r_khi_ms.content, 'html.parser') "
   ]
  },
  {
   "cell_type": "code",
   "execution_count": 25,
   "id": "fa2c719d",
   "metadata": {},
   "outputs": [
    {
     "name": "stdout",
     "output_type": "stream",
     "text": [
      "8\n"
     ]
    },
    {
     "name": "stderr",
     "output_type": "stream",
     "text": [
      "C:\\Users\\f-jaf\\AppData\\Local\\Temp\\ipykernel_17020\\3443332558.py:2: DeprecationWarning: Call to deprecated method findAll. (Replaced by find_all) -- Deprecated since version 4.0.0.\n",
      "  faculty_khi_ms = soup_khi_ms.findAll('div', class_='gdlr-core-personnel-list')\n"
     ]
    }
   ],
   "source": [
    "# Extracting the faculty member cards\n",
    "faculty_khi_ms = soup_khi_ms.findAll('div', class_='gdlr-core-personnel-list')\n",
    "\n",
    "print(len(faculty_khi_ms))"
   ]
  },
  {
   "cell_type": "code",
   "execution_count": 26,
   "id": "b1cda609",
   "metadata": {},
   "outputs": [
    {
     "name": "stderr",
     "output_type": "stream",
     "text": [
      "C:\\Users\\f-jaf\\AppData\\Local\\Temp\\ipykernel_17020\\3191920221.py:32: DeprecationWarning: Call to deprecated method findAll. (Replaced by find_all) -- Deprecated since version 4.0.0.\n",
      "  profile_info = profile_content.findAll('span',class_={'gdlr-core-title-item-caption' : True , \"gdlr-core-icon-list-content\" : True })\n"
     ]
    }
   ],
   "source": [
    "# extracting ID , image , name , email , designation , dept , extension,  highest education and if HEC Approved Supervisor\n",
    "for f in faculty_khi_ms:\n",
    "    try:\n",
    "        name.append(f.find('h3', class_='gdlr-core-personnel-list-title').text.split(',')[0])\n",
    "    except:\n",
    "        name.append(f.find('h3', class_='gdlr-core-personnel-list-title').text)\n",
    "\n",
    "    try:\n",
    "        img.append(f.find('img')['src'])\n",
    "    except TypeError:\n",
    "        img.append(\"Not Available\")\n",
    "\n",
    "    designation.append(f.find('div', class_='gdlr-core-personnel-list-position').text)\n",
    "    email.append(f.find('div', class_='kingster-type-email').text)\n",
    "    dept.append(\"Management Sciences\")\n",
    "    profile_link = f.find('a', class_='gdlr-core-personnel-list-button')['href']\n",
    "    profile = requests.get(profile_link)\n",
    "    profile_content = BeautifulSoup(profile.content, 'html.parser')\n",
    "    ID.append(int(profile_content.find('body').get('class')[3][-4:]))\n",
    "    HEC = profile_content.find('span', class_='gdlr-core-title-item-caption').text.strip().split('\\n')\n",
    "\n",
    "    if len(HEC) == 3 or 'HEC Approved PhD Supervisor' in HEC[0]:\n",
    "        HEC_approved.append(True)\n",
    "    else:\n",
    "        HEC_approved.append(False)\n",
    "\n",
    "    try:\n",
    "        extension.append(int(f.find('div', class_='kingster-type-phone').text))\n",
    "    except:\n",
    "        extension.append(-1)\n",
    "\n",
    "    profile_info = profile_content.findAll('span',class_={'gdlr-core-title-item-caption' : True , \"gdlr-core-icon-list-content\" : True })\n",
    "    check = False\n",
    "\n",
    "    try:\n",
    "        for p in profile_info:\n",
    "            text = p.text.split()[0]\n",
    "            if text == 'PhD' and check==False:\n",
    "                highest_education.append(p.text)\n",
    "                check = True\n",
    "            elif text == 'PhD-IT' and check==False:\n",
    "                highest_education.append(p.text)\n",
    "                check = True\n",
    "            elif text == 'PostDoc' and check==False:\n",
    "                highest_education.append(p.text)\n",
    "                check = True\n",
    "            elif text == 'MS' and check==False:\n",
    "                highest_education.append(p.text)\n",
    "                check = True\n",
    "            elif text == 'MSc' and check==False:\n",
    "                highest_education.append(p.text)\n",
    "                check = True\n",
    "            elif text == 'ME' and check==False:\n",
    "                highest_education.append(p.text)\n",
    "                check = True\n",
    "            elif text == 'MCS,' and check==False:\n",
    "                highest_education.append(p.text)\n",
    "                check = True\n",
    "            elif text == 'MPhil' and check==False:\n",
    "                highest_education.append(p.text)\n",
    "                check = True\n",
    "            elif text == 'BS' and check==False:\n",
    "                highest_education.append(p.text)\n",
    "                check = True\n",
    "            elif text == 'BE' and check==False:\n",
    "                highest_education.append(p.text)\n",
    "                check = True\n",
    "        if check==False:\n",
    "            highest_education.append('Not Available')\n",
    "    except:\n",
    "        highest_education.append('Not Available')"
   ]
  },
  {
   "cell_type": "code",
   "execution_count": 27,
   "id": "41854c50",
   "metadata": {},
   "outputs": [
    {
     "name": "stdout",
     "output_type": "stream",
     "text": [
      "122\n",
      "122\n",
      "122\n",
      "122\n",
      "122\n",
      "122\n",
      "122\n",
      "122\n",
      "122\n"
     ]
    }
   ],
   "source": [
    "# printing the length of the lists\n",
    "print(len(ID))\n",
    "print(len(name))\n",
    "print(len(designation))\n",
    "print(len(email))\n",
    "print(len(highest_education))\n",
    "print(len(HEC_approved))\n",
    "print(len(dept))\n",
    "print(len(extension))\n",
    "print(len(img))"
   ]
  },
  {
   "cell_type": "code",
   "execution_count": 28,
   "id": "28517479",
   "metadata": {},
   "outputs": [
    {
     "name": "stdout",
     "output_type": "stream",
     "text": [
      "<Response [200]>\n"
     ]
    }
   ],
   "source": [
    "# requesting the faculty page for the sciences and humanities dept\n",
    "URL_khi_sh = \"https://khi.nu.edu.pk/department-of-sciences-humanities/\"\n",
    "r_khi_sh = requests.get(URL_khi_sh) \n",
    "print(r_khi_sh) \n",
    "\n",
    "soup_khi_sh = BeautifulSoup(r_khi_sh.content, 'html.parser') "
   ]
  },
  {
   "cell_type": "code",
   "execution_count": 29,
   "id": "47ed0c9c",
   "metadata": {},
   "outputs": [
    {
     "name": "stdout",
     "output_type": "stream",
     "text": [
      "29\n"
     ]
    },
    {
     "name": "stderr",
     "output_type": "stream",
     "text": [
      "C:\\Users\\f-jaf\\AppData\\Local\\Temp\\ipykernel_17020\\714662530.py:2: DeprecationWarning: Call to deprecated method findAll. (Replaced by find_all) -- Deprecated since version 4.0.0.\n",
      "  faculty_khi_sh = soup_khi_sh.findAll('div', class_='gdlr-core-personnel-list')\n"
     ]
    }
   ],
   "source": [
    "# creating a beautiful soup object\n",
    "faculty_khi_sh = soup_khi_sh.findAll('div', class_='gdlr-core-personnel-list')\n",
    "\n",
    "print(len(faculty_khi_sh))"
   ]
  },
  {
   "cell_type": "code",
   "execution_count": 30,
   "id": "9cac2c9e",
   "metadata": {},
   "outputs": [
    {
     "name": "stderr",
     "output_type": "stream",
     "text": [
      "C:\\Users\\f-jaf\\AppData\\Local\\Temp\\ipykernel_17020\\1121127831.py:32: DeprecationWarning: Call to deprecated method findAll. (Replaced by find_all) -- Deprecated since version 4.0.0.\n",
      "  profile_info = profile_content.findAll('span',class_={'gdlr-core-title-item-caption' : True , \"gdlr-core-icon-list-content\" : True })\n"
     ]
    }
   ],
   "source": [
    "# extracting ID , image , name , email , designation , dept , extension,  highest education and if HEC Approved Supervisor\n",
    "for f in faculty_khi_sh:\n",
    "    try:\n",
    "        name.append(f.find('h3', class_='gdlr-core-personnel-list-title').text.split(',')[0])\n",
    "    except:\n",
    "        name.append(f.find('h3', class_='gdlr-core-personnel-list-title').text)\n",
    "\n",
    "    try:\n",
    "        img.append(f.find('img')['src'])\n",
    "    except TypeError:\n",
    "        img.append(\"Not Available\")\n",
    "\n",
    "    designation.append(f.find('div', class_='gdlr-core-personnel-list-position').text)\n",
    "    email.append(f.find('div', class_='kingster-type-email').text)\n",
    "    dept.append(\"Sciences and Humanities\")\n",
    "    profile_link = f.find('a', class_='gdlr-core-personnel-list-button')['href']\n",
    "    profile = requests.get(profile_link)\n",
    "    profile_content = BeautifulSoup(profile.content, 'html.parser')\n",
    "    ID.append(int(profile_content.find('body').get('class')[3][-4:]))\n",
    "    HEC = profile_content.find('span', class_='gdlr-core-title-item-caption').text.strip().split('\\n')\n",
    "\n",
    "    if len(HEC) == 3 or 'HEC Approved PhD Supervisor' in HEC[0]:\n",
    "        HEC_approved.append(True)\n",
    "    else:\n",
    "        HEC_approved.append(False)\n",
    "\n",
    "    try:\n",
    "        extension.append(int(f.find('div', class_='kingster-type-phone').text))\n",
    "    except:\n",
    "        extension.append(-1)\n",
    "\n",
    "    profile_info = profile_content.findAll('span',class_={'gdlr-core-title-item-caption' : True , \"gdlr-core-icon-list-content\" : True })\n",
    "    check = False\n",
    "\n",
    "    try:\n",
    "        for p in profile_info:\n",
    "            text = p.text.split()[0]\n",
    "            if text == 'PhD' and check==False:\n",
    "                highest_education.append(p.text)\n",
    "                check = True\n",
    "            elif text == 'PhD-IT' and check==False:\n",
    "                highest_education.append(p.text)\n",
    "                check = True\n",
    "            elif text == 'PostDoc' and check==False:\n",
    "                highest_education.append(p.text)\n",
    "                check = True\n",
    "            elif text == 'MS' and check==False:\n",
    "                highest_education.append(p.text)\n",
    "                check = True\n",
    "            elif text == 'MBA' and check==False:\n",
    "                highest_education.append(p.text)\n",
    "                check = True\n",
    "            elif text == 'MSc' and check==False:\n",
    "                highest_education.append(p.text)\n",
    "                check = True\n",
    "            elif text == 'ME' and check==False:\n",
    "                highest_education.append(p.text)\n",
    "                check = True\n",
    "            elif text == 'MA' and check==False:\n",
    "                highest_education.append(p.text)\n",
    "                check = True\n",
    "            elif text == 'MCS,' and check==False:\n",
    "                highest_education.append(p.text)\n",
    "                check = True\n",
    "            elif text == 'MPhil' and check==False:\n",
    "                highest_education.append(p.text)\n",
    "                check = True\n",
    "            elif text == 'BS' and check==False:\n",
    "                highest_education.append(p.text)\n",
    "                check = True\n",
    "            elif text == 'BE' and check==False:\n",
    "                highest_education.append(p.text)\n",
    "                check = True\n",
    "        if check==False:\n",
    "            highest_education.append('Not Available')\n",
    "    except:\n",
    "        highest_education.append('Not Available')"
   ]
  },
  {
   "cell_type": "code",
   "execution_count": 31,
   "id": "94669121",
   "metadata": {},
   "outputs": [
    {
     "name": "stdout",
     "output_type": "stream",
     "text": [
      "151\n",
      "151\n",
      "151\n",
      "151\n",
      "151\n",
      "151\n",
      "151\n",
      "151\n",
      "151\n"
     ]
    }
   ],
   "source": [
    "print(len(ID))\n",
    "print(len(name))\n",
    "print(len(designation))\n",
    "print(len(email))\n",
    "print(len(highest_education))\n",
    "print(len(HEC_approved))\n",
    "print(len(dept))\n",
    "print(len(extension))\n",
    "print(len(img))"
   ]
  },
  {
   "cell_type": "code",
   "execution_count": 32,
   "id": "fb6292fc",
   "metadata": {},
   "outputs": [
    {
     "name": "stdout",
     "output_type": "stream",
     "text": [
      "ID                              int64\n",
      "Name                           object\n",
      "Designation                    object\n",
      "HEC Approved PHD Supervisor      bool\n",
      "Highest Education              object\n",
      "Email                          object\n",
      "Department                     object\n",
      "Extension                       int64\n",
      "ImageURL                       object\n",
      "dtype: object\n"
     ]
    }
   ],
   "source": [
    "# creating the dataframe\n",
    "khi_df = pd.DataFrame({'ID': ID , 'Name': name , 'Designation': designation , 'HEC Approved PHD Supervisor': HEC_approved ,\n",
    "                       'Highest Education': highest_education , 'Email' : email , 'Department': dept , 'Extension': extension ,\n",
    "                       'ImageURL': img })\n",
    "print(khi_df.dtypes)\n",
    "\n",
    "khi_df.to_csv('khi.csv')"
   ]
  }
 ],
 "metadata": {
  "kernelspec": {
   "display_name": "Python 3",
   "language": "python",
   "name": "python3"
  },
  "language_info": {
   "codemirror_mode": {
    "name": "ipython",
    "version": 3
   },
   "file_extension": ".py",
   "mimetype": "text/x-python",
   "name": "python",
   "nbconvert_exporter": "python",
   "pygments_lexer": "ipython3",
   "version": "3.13.1"
  }
 },
 "nbformat": 4,
 "nbformat_minor": 5
}
